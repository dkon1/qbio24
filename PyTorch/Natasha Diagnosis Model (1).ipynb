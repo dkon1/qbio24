{
 "cells": [
  {
   "cell_type": "code",
   "execution_count": null,
   "id": "2e389e3d-b97b-4052-912a-db121e094d8c",
   "metadata": {},
   "outputs": [],
   "source": [
    "import torch\n",
    "import pip\n",
    "\n",
    "import math\n",
    "import torch.nn as nn\n",
    "import torch.optim as optim\n",
    "import pandas as pd\n",
    "\n",
    "import tensorflow as tf\n",
    "from tensorflow.keras.models import Sequential\n",
    "from tensorflow.keras.layers import Dense\n",
    "from keras.layers import Dense, Input\n",
    "\n",
    "from sklearn.model_selection import train_test_split\n",
    "from sklearn.preprocessing import OneHotEncoder, StandardScaler\n",
    "from sklearn.preprocessing import LabelEncoder"
   ]
  },
  {
   "cell_type": "code",
   "execution_count": null,
   "id": "86c73e93-99b1-47f3-a10b-0f80178ea757",
   "metadata": {},
   "outputs": [],
   "source": [
    "Signals = pd.read_excel(r'C:\\Users\\natas\\Downloads\\HIPPA_DRB5_Signals.xlsx')\n",
    "Signals_test_data = pd.read_excel(r'C:\\Users\\natas\\Downloads\\HIPPA_DRB5_Signals2.xlsx')\n",
    "\n",
    "# Encode categorical labels to integers\n",
    "label_encoder = LabelEncoder()\n",
    "Signals['Diagnosis'] = label_encoder.fit_transform(Signals['Diagnosis'])\n",
    "Signals_test_data['Diagnosis'] = label_encoder.transform(Signals_test_data['Diagnosis'])\n",
    "\n",
    "x_train = Signals[['DRB1 Signal', 'DRB5 Signal', 'DRA Signal']]\n",
    "y_train = Signals['Diagnosis']\n",
    "\n",
    "model = Sequential()\n",
    "\n",
    "# Add the first layer with specified input shape\n",
    "model.add(Input(shape=(3,))) \n",
    "\n",
    "model.add(Dense(units=124, activation = 'relu'))\n",
    "model.add(Dense(units=y_train.nunique(), activation = 'softmax'))\n",
    "\n",
    "model.compile(optimizer='adam',\n",
    "              loss='sparse_categorical_crossentropy',\n",
    "              metrics=['accuracy'])\n",
    "\n",
    "# Train the model\n",
    "model.fit(x_train, y_train, epochs=30, batch_size=32, validation_split=0.2)\n",
    "\n",
    "# Evaluate the model\n",
    "x_test = Signals_test_data[['DRB1 Signal', 'DRB5 Signal', 'DRA Signal']]\n",
    "y_test = Signals_test_data['Diagnosis']\n",
    "loss, accuracy = model.evaluate(x_test, y_test)\n",
    "print(f'Test loss: {loss:.4f}')\n",
    "print(f'Test accuracy: {accuracy:.4f}')"
   ]
  }
 ],
 "metadata": {
  "kernelspec": {
   "display_name": "Python 3 (ipykernel)",
   "language": "python",
   "name": "python3"
  },
  "language_info": {
   "codemirror_mode": {
    "name": "ipython",
    "version": 3
   },
   "file_extension": ".py",
   "mimetype": "text/x-python",
   "name": "python",
   "nbconvert_exporter": "python",
   "pygments_lexer": "ipython3",
   "version": "3.12.4"
  }
 },
 "nbformat": 4,
 "nbformat_minor": 5
}
