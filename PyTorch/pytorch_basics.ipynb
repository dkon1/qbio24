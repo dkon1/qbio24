{
 "cells": [
  {
   "cell_type": "code",
   "execution_count": 3,
   "id": "4da8a69f",
   "metadata": {},
   "outputs": [],
   "source": [
    "import torch\n",
    "import math"
   ]
  },
  {
   "cell_type": "code",
   "execution_count": 6,
   "id": "58d445b5",
   "metadata": {},
   "outputs": [
    {
     "name": "stdout",
     "output_type": "stream",
     "text": [
      "<class 'torch.Tensor'>\n",
      "tensor([[0., 0., 0., 0.],\n",
      "        [0., 0., 0., 0.],\n",
      "        [0., 0., 0., 0.]])\n"
     ]
    }
   ],
   "source": [
    "x = torch.empty(3, 4)\n",
    "print(type(x))\n",
    "print(x)"
   ]
  },
  {
   "cell_type": "code",
   "execution_count": 7,
   "id": "aa39b004",
   "metadata": {},
   "outputs": [
    {
     "name": "stdout",
     "output_type": "stream",
     "text": [
      "tensor([[0., 0., 0.],\n",
      "        [0., 0., 0.]])\n",
      "tensor([[1., 1., 1.],\n",
      "        [1., 1., 1.]])\n",
      "tensor([[0.3126, 0.3791, 0.3087],\n",
      "        [0.0736, 0.4216, 0.0691]])\n"
     ]
    }
   ],
   "source": [
    "zeros = torch.zeros(2, 3)\n",
    "print(zeros)\n",
    "\n",
    "ones = torch.ones(2, 3)\n",
    "print(ones)\n",
    "\n",
    "torch.manual_seed(1729)\n",
    "random = torch.rand(2, 3)\n",
    "print(random)"
   ]
  },
  {
   "cell_type": "code",
   "execution_count": 12,
   "id": "fc7089d3",
   "metadata": {},
   "outputs": [
    {
     "name": "stdout",
     "output_type": "stream",
     "text": [
      "tensor A: tensor([1, 2, 3, 4])\n",
      "tensor B: tensor([[0., 0., 0.],\n",
      "        [0., 0., 0.]])\n",
      "tensor C: tensor([[0.0703, 0.5105, 0.9451, 0.2359],\n",
      "        [0.1979, 0.3327, 0.6146, 0.5999],\n",
      "        [0.5013, 0.9397, 0.8656, 0.5207]])\n"
     ]
    }
   ],
   "source": [
    "# create a tensor from a list \n",
    "tensor_a = torch.tensor([1, 2, 3, 4])\n",
    "print(f\"tensor A: {tensor_a}\")\n",
    "\n",
    "# create a tensor with specified shape\n",
    "tensor_b = torch.zeros((2, 3))  # 2x3 tensor filled with zeros\n",
    "print(f\"tensor B: {tensor_b}\")\n",
    "\n",
    "# Create a tensor with random values\n",
    "tensor_c = torch.rand((3, 4))  # 3x4 tensor with random values\n",
    "print(f\"tensor C: {tensor_c}\")"
   ]
  },
  {
   "cell_type": "code",
   "execution_count": 13,
   "id": "8bbc83aa",
   "metadata": {},
   "outputs": [
    {
     "name": "stdout",
     "output_type": "stream",
     "text": [
      "shape of tensor A: torch.Size([4])\n",
      "shape of tensor B: torch.Size([2, 3])\n",
      "shape of tensor C: torch.Size([3, 4])\n"
     ]
    }
   ],
   "source": [
    "# check tensor shapes\n",
    "print(f\"shape of tensor A: {tensor_a.shape}\")\n",
    "print(f\"shape of tensor B: {tensor_b.shape}\")\n",
    "print(f\"shape of tensor C: {tensor_c.shape}\")"
   ]
  },
  {
   "cell_type": "code",
   "execution_count": 14,
   "id": "11177518",
   "metadata": {},
   "outputs": [
    {
     "name": "stdout",
     "output_type": "stream",
     "text": [
      "reshaped tensor C: tensor([[0.0703, 0.5105, 0.9451, 0.2359, 0.1979, 0.3327],\n",
      "        [0.6146, 0.5999, 0.5013, 0.9397, 0.8656, 0.5207]])\n",
      "shape of reshaped tensor C: torch.Size([2, 6])\n"
     ]
    }
   ],
   "source": [
    "# reshape tensor_c to a 2x6 tensor\n",
    "tensor_c_reshaped = tensor_c.view(2, 6)\n",
    "print(f\"reshaped tensor C: {tensor_c_reshaped}\")\n",
    "print(f\"shape of reshaped tensor C: {tensor_c_reshaped.shape}\")"
   ]
  },
  {
   "cell_type": "code",
   "execution_count": 16,
   "id": "7f62baaa",
   "metadata": {},
   "outputs": [
    {
     "name": "stdout",
     "output_type": "stream",
     "text": [
      "tensor D (element-wise addition): tensor([ 6,  8, 10, 12])\n",
      "tensor E (matrix multiplication): tensor([[19, 22],\n",
      "        [43, 50]])\n"
     ]
    }
   ],
   "source": [
    "# element-wise addition\n",
    "tensor_d = tensor_a + torch.tensor([5, 6, 7, 8])\n",
    "print(f\"tensor D (element-wise addition): {tensor_d}\")\n",
    "\n",
    "# matrix multiplication\n",
    "tensor_e = torch.matmul(torch.tensor([[1, 2], [3, 4]]), torch.tensor([[5, 6], [7, 8]]))\n",
    "print(f\"tensor E (matrix multiplication): {tensor_e}\")"
   ]
  },
  {
   "cell_type": "code",
   "execution_count": 17,
   "id": "56579d5c",
   "metadata": {},
   "outputs": [
    {
     "name": "stdout",
     "output_type": "stream",
     "text": [
      "matrix after broadcasting: tensor([[1.6865, 2.3614, 3.6493, 4.2633],\n",
      "        [1.4762, 2.0548, 3.2024, 4.5731],\n",
      "        [1.7191, 2.4067, 3.7301, 4.6276]])\n"
     ]
    }
   ],
   "source": [
    "# broadcasting example: adding a vector to a matrix\n",
    "matrix = torch.rand((3, 4))\n",
    "vector = torch.tensor([1, 2, 3, 4])\n",
    "result = matrix + vector  # broadcasting the vector to each row of the matrix\n",
    "print(f\"matrix after broadcasting: {result}\")"
   ]
  },
  {
   "cell_type": "code",
   "execution_count": 18,
   "id": "c396b9d4",
   "metadata": {},
   "outputs": [
    {
     "name": "stdout",
     "output_type": "stream",
     "text": [
      "Gradient of y with respect to x: 7.0\n"
     ]
    }
   ],
   "source": [
    "# create a tensor with requires_grad=True to track computations\n",
    "x = torch.tensor(2.0, requires_grad=True)\n",
    "\n",
    "# perform operations on the tensor\n",
    "y = x ** 2 + 3 * x + 1\n",
    "\n",
    "# compute gradients (backward pass)\n",
    "y.backward()\n",
    "\n",
    "# print the gradient\n",
    "print(f\"Gradient of y with respect to x: {x.grad}\")"
   ]
  },
  {
   "cell_type": "code",
   "execution_count": 19,
   "id": "19fc3884",
   "metadata": {},
   "outputs": [
    {
     "name": "stdout",
     "output_type": "stream",
     "text": [
      "final loss: 0.08624911308288574\n"
     ]
    }
   ],
   "source": [
    "import torch.nn as nn\n",
    "import torch.optim as optim\n",
    "\n",
    "# define a simple neural network\n",
    "class SimpleNN(nn.Module):\n",
    "    def __init__(self):\n",
    "        super(SimpleNN, self).__init__()\n",
    "        self.fc1 = nn.Linear(1, 10)\n",
    "        self.fc2 = nn.Linear(10, 1)\n",
    "\n",
    "    def forward(self, x):\n",
    "        x = torch.relu(self.fc1(x))\n",
    "        x = self.fc2(x)\n",
    "        return x\n",
    "\n",
    "# create the network and define the loss function and optimizer\n",
    "net = SimpleNN()\n",
    "criterion = nn.MSELoss()\n",
    "optimizer = optim.SGD(net.parameters(), lr=0.01)\n",
    "\n",
    "# dummy input and target\n",
    "inputs = torch.tensor([[1.0], [2.0], [3.0], [4.0]])\n",
    "targets = torch.tensor([[2.0], [4.0], [6.0], [8.0]])\n",
    "\n",
    "# training loop\n",
    "for epoch in range(100):\n",
    "    optimizer.zero_grad()  # zero the gradient buffers\n",
    "    outputs = net(inputs)  # forward pass\n",
    "    loss = criterion(outputs, targets)  # compute loss\n",
    "    loss.backward()  # backward pass (compute gradients)\n",
    "    optimizer.step()  # update weights\n",
    "\n",
    "print(f\"final loss: {loss.item()}\")\n"
   ]
  },
  {
   "cell_type": "code",
   "execution_count": null,
   "id": "a605ea45",
   "metadata": {},
   "outputs": [],
   "source": []
  }
 ],
 "metadata": {
  "kernelspec": {
   "display_name": "Python 3 (ipykernel)",
   "language": "python",
   "name": "python3"
  },
  "language_info": {
   "codemirror_mode": {
    "name": "ipython",
    "version": 3
   },
   "file_extension": ".py",
   "mimetype": "text/x-python",
   "name": "python",
   "nbconvert_exporter": "python",
   "pygments_lexer": "ipython3",
   "version": "3.11.4"
  }
 },
 "nbformat": 4,
 "nbformat_minor": 5
}
