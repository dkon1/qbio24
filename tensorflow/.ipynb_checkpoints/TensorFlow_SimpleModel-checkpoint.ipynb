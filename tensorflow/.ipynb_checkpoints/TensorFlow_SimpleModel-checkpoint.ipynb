{
 "cells": [
  {
   "cell_type": "markdown",
   "id": "48fdccfb-0b8b-497e-a596-da4fc44753d9",
   "metadata": {},
   "source": [
    "Simple tensorflow model from tensorflow quickstart guide"
   ]
  },
  {
   "cell_type": "code",
   "execution_count": null,
   "id": "5497970c-86eb-42f9-a931-0da75a1c221d",
   "metadata": {},
   "outputs": [],
   "source": [
    "import tensorflow as tf\n",
    "import numpy as np\n",
    "print(\"numpy version:\", np.__version__)\n",
    "print(\"TensorFlow version:\", tf.__version__)"
   ]
  },
  {
   "cell_type": "markdown",
   "id": "1dcf4938-79c4-40a9-8b8d-cba3f1ec5583",
   "metadata": {},
   "source": [
    "import and prepare mnist dataset"
   ]
  },
  {
   "cell_type": "code",
   "execution_count": 3,
   "id": "724c4233-6e0b-4ca2-a65e-00dbc892cabf",
   "metadata": {},
   "outputs": [],
   "source": [
    "mnist = tf.keras.datasets.mnist\n",
    "#divide data into training and test sets and scale to be in 0-1 range\n",
    "(x_train, y_train), (x_test, y_test) = mnist.load_data()\n",
    "x_train, x_test = x_train / 255.0, x_test / 255.0\n"
   ]
  },
  {
   "cell_type": "markdown",
   "id": "eafd7d7c-b5a0-442b-b05a-df4dbce441d7",
   "metadata": {},
   "source": [
    "construct model"
   ]
  },
  {
   "cell_type": "code",
   "execution_count": 7,
   "id": "43daa3e1-6abf-4021-971a-49a9e3173389",
   "metadata": {},
   "outputs": [],
   "source": [
    "#model layers\n",
    "model = tf.keras.models.Sequential([\n",
    "  tf.keras.layers.Flatten(input_shape=(28, 28)),\n",
    "  tf.keras.layers.Dense(128, activation='relu'),\n",
    "  tf.keras.layers.Dropout(0.2),\n",
    "  tf.keras.layers.Dense(10)\n",
    "])\n",
    "\n",
    "#prints out log-odds scores for classes\n",
    "predictions = model(x_train[:1]).numpy()\n",
    "predictions\n",
    "#turns log-odds scores into probabilities for each class\n",
    "tf.nn.softmax(predictions).numpy()\n",
    "#define loss function\n",
    "loss_fn = tf.keras.losses.SparseCategoricalCrossentropy(from_logits=True)\n",
    "#compile model, using adam pre-build optimization algorithm (many other options available),\n",
    "#loss function defined above, and set for model to be evaluated by accuracy\n",
    "model.compile(optimizer='adam',\n",
    "              loss=loss_fn,\n",
    "              metrics=['accuracy'])\n"
   ]
  },
  {
   "cell_type": "markdown",
   "id": "bde22bf9-a8b5-4c7c-adc7-714f2a1ed9b7",
   "metadata": {},
   "source": [
    "Train and test model"
   ]
  },
  {
   "cell_type": "code",
   "execution_count": 9,
   "id": "d31fba7d-3778-49fc-9b79-35ad20f151b5",
   "metadata": {},
   "outputs": [
    {
     "name": "stdout",
     "output_type": "stream",
     "text": [
      "Epoch 1/5\n",
      "\u001b[1m1875/1875\u001b[0m \u001b[32m━━━━━━━━━━━━━━━━━━━━\u001b[0m\u001b[37m\u001b[0m \u001b[1m6s\u001b[0m 3ms/step - accuracy: 0.9797 - loss: 0.0632\n",
      "Epoch 2/5\n",
      "\u001b[1m1875/1875\u001b[0m \u001b[32m━━━━━━━━━━━━━━━━━━━━\u001b[0m\u001b[37m\u001b[0m \u001b[1m6s\u001b[0m 3ms/step - accuracy: 0.9816 - loss: 0.0578\n",
      "Epoch 3/5\n",
      "\u001b[1m1875/1875\u001b[0m \u001b[32m━━━━━━━━━━━━━━━━━━━━\u001b[0m\u001b[37m\u001b[0m \u001b[1m6s\u001b[0m 3ms/step - accuracy: 0.9844 - loss: 0.0472\n",
      "Epoch 4/5\n",
      "\u001b[1m1875/1875\u001b[0m \u001b[32m━━━━━━━━━━━━━━━━━━━━\u001b[0m\u001b[37m\u001b[0m \u001b[1m10s\u001b[0m 3ms/step - accuracy: 0.9850 - loss: 0.0456\n",
      "Epoch 5/5\n",
      "\u001b[1m1875/1875\u001b[0m \u001b[32m━━━━━━━━━━━━━━━━━━━━\u001b[0m\u001b[37m\u001b[0m \u001b[1m6s\u001b[0m 3ms/step - accuracy: 0.9858 - loss: 0.0413\n",
      "313/313 - 1s - 2ms/step - accuracy: 0.9791 - loss: 0.0728\n"
     ]
    },
    {
     "data": {
      "text/plain": [
       "[0.07284025847911835, 0.9790999889373779]"
      ]
     },
     "execution_count": 9,
     "metadata": {},
     "output_type": "execute_result"
    }
   ],
   "source": [
    "#train with training data over 5 epochs\n",
    "model.fit(x_train, y_train, epochs=5)"
   ]
  },
  {
   "cell_type": "code",
   "execution_count": 15,
   "id": "cdb1413a-07ff-4040-99af-5046011cc546",
   "metadata": {},
   "outputs": [
    {
     "name": "stdout",
     "output_type": "stream",
     "text": [
      "313/313 - 1s - 2ms/step - accuracy: 0.9791 - loss: 0.0728\n"
     ]
    },
    {
     "data": {
      "text/plain": [
       "[0.07284025847911835, 0.9790999889373779]"
      ]
     },
     "execution_count": 15,
     "metadata": {},
     "output_type": "execute_result"
    }
   ],
   "source": [
    "#check accuracy of trained model with test data\n",
    "#verbose parameter determines additional info given by this line (2 shows summary, 1 shows progress bar, 0 shows nothing)\n",
    "model.evaluate(x_test,  y_test, verbose=2)"
   ]
  },
  {
   "cell_type": "markdown",
   "id": "ab8adae8-a2a4-420a-8416-84675d6b0c3c",
   "metadata": {},
   "source": [
    "Model has 97% accuracy on test data"
   ]
  }
 ],
 "metadata": {
  "kernelspec": {
   "display_name": "Python 3 (ipykernel)",
   "language": "python",
   "name": "python3"
  },
  "language_info": {
   "codemirror_mode": {
    "name": "ipython",
    "version": 3
   },
   "file_extension": ".py",
   "mimetype": "text/x-python",
   "name": "python",
   "nbconvert_exporter": "python",
   "pygments_lexer": "ipython3",
   "version": "3.12.4"
  }
 },
 "nbformat": 4,
 "nbformat_minor": 5
}
